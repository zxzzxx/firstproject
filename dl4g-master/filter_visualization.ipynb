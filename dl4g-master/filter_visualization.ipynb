{
 "cells": [
  {
   "cell_type": "markdown",
   "metadata": {},
   "source": [
    "Feature Visualization\n",
    "======"
   ]
  },
  {
   "cell_type": "code",
   "execution_count": 1,
   "metadata": {},
   "outputs": [],
   "source": [
    "# install pytorch (http://pytorch.org/) if run from Google Colaboratory\n",
    "import sys\n",
    "if 'google.colab' in sys.modules and 'torch' not in sys.modules:\n",
    "    from os.path import exists\n",
    "    from wheel.pep425tags import get_abbr_impl, get_impl_ver, get_abi_tag\n",
    "    platform = '{}{}-{}'.format(get_abbr_impl(), get_impl_ver(), get_abi_tag())\n",
    "    cuda_output = !ldconfig -p|grep cudart.so|sed -e 's/.*\\.\\([0-9]*\\)\\.\\([0-9]*\\)$/cu\\1\\2/'\n",
    "    accelerator = cuda_output[0] if exists('/dev/nvidia0') else 'cpu'\n",
    "\n",
    "    !pip3 install https://download.pytorch.org/whl/{accelerator}/torch-1.1.0-{platform}-linux_x86_64.whl\n",
    "    !pip3 install https://download.pytorch.org/whl/{accelerator}/torchvision-0.3.0-{platform}-linux_x86_64.whl\n",
    "\n",
    "%matplotlib inline\n",
    "import os\n",
    "\n",
    "import torch\n",
    "import torch.nn as nn\n",
    "import torch.nn.functional as F"
   ]
  },
  {
   "cell_type": "markdown",
   "metadata": {},
   "source": [
    "Parameter Settings\n",
    "-------------------\n"
   ]
  },
  {
   "cell_type": "code",
   "execution_count": 2,
   "metadata": {},
   "outputs": [],
   "source": [
    "num_epochs = 150\n",
    "batch_size = 256\n",
    "learning_rate = 1e-3\n",
    "use_gpu = True\n",
    "nfilters = 25"
   ]
  },
  {
   "cell_type": "markdown",
   "metadata": {},
   "source": [
    "CIFAR Data Loading\n",
    "-------------------\n",
    "\n",
    "The CIFAR dataset contains 60000 32x32 colour images, split into 50000 training images and 10000 test images. Each image is labeled as one of either 10 (CIFAR10) or 100 (CIFAR100) classes."
   ]
  },
  {
   "cell_type": "code",
   "execution_count": 3,
   "metadata": {},
   "outputs": [
    {
     "name": "stdout",
     "output_type": "stream",
     "text": [
      "Files already downloaded and verified\n",
      "Files already downloaded and verified\n"
     ]
    }
   ],
   "source": [
    "import numpy as np\n",
    "from skimage import color\n",
    "\n",
    "import torchvision.transforms as transforms\n",
    "from torch.utils.data import DataLoader\n",
    "from torchvision.datasets import CIFAR10\n",
    "\n",
    "# augment the dataset by doing random crops and horizontal mirroring\n",
    "# this is done to prevent overfitting\n",
    "transform_train = transforms.Compose([\n",
    "    transforms.RandomCrop(32, padding=4),\n",
    "    transforms.RandomHorizontalFlip(),\n",
    "    transforms.ToTensor(),\n",
    "    transforms.Normalize((0.4914, 0.4822, 0.4465), (0.2023, 0.1994, 0.2010)),\n",
    "])\n",
    "\n",
    "transform_test = transforms.Compose([\n",
    "    transforms.ToTensor(),\n",
    "    transforms.Normalize((0.4914, 0.4822, 0.4465), (0.2023, 0.1994, 0.2010)),\n",
    "])\n",
    "\n",
    "\n",
    "train_dataset = CIFAR10('./data/CIFAR10', train=True, transform=transform_train, target_transform=None, download=True)\n",
    "train_dataloader = DataLoader(train_dataset, batch_size=batch_size, shuffle=True)\n",
    "\n",
    "test_dataset = CIFAR10('./data/CIFAR10', train=False, transform=transform_test, target_transform=None, download=True)\n",
    "test_dataloader = DataLoader(test_dataset, batch_size=batch_size, shuffle=True)"
   ]
  },
  {
   "cell_type": "markdown",
   "metadata": {},
   "source": [
    "ConvNet Definition\n",
    "-----------------------\n",
    "In this convolutional net, we choose a large kernel size to have a more detailed visualization"
   ]
  },
  {
   "cell_type": "code",
   "execution_count": 4,
   "metadata": {},
   "outputs": [
    {
     "name": "stdout",
     "output_type": "stream",
     "text": [
      "Number of parameters: 250666\n"
     ]
    }
   ],
   "source": [
    "import numpy as np\n",
    "\n",
    "class ConvNet(nn.Module):\n",
    "    def __init__(self):\n",
    "        super(ConvNet, self).__init__()\n",
    "        \n",
    "        self.conv1 = nn.Conv2d(3, 16, kernel_size=9, stride=1, padding=4) # out: 48 x 32 x 32\n",
    "        self.conv1_bn = nn.BatchNorm2d(16)\n",
    "        self.conv2 = nn.Conv2d(16, 32, kernel_size=3, stride=2, padding=1) # out: 48 x 16 x 16\n",
    "        self.conv2_bn = nn.BatchNorm2d(32)\n",
    "        self.conv3 = nn.Conv2d(32, 32, kernel_size=9, stride=1, padding=4) # out: 96 x 16 x 16\n",
    "        self.conv3_bn = nn.BatchNorm2d(32)\n",
    "        self.conv4 = nn.Conv2d(32, 64, kernel_size=3, stride=2, padding=1) # out: 96 x 8 x 8\n",
    "        self.conv4_bn = nn.BatchNorm2d(64)\n",
    "        self.conv5 = nn.Conv2d(64, 64, kernel_size=3, stride=1, padding=1) # out: 96 x 8 x 8\n",
    "        self.conv5_bn = nn.BatchNorm2d(64)\n",
    "        self.conv6 = nn.Conv2d(64, 64, kernel_size=3, stride=2, padding=1) # out: 96 x 4 x 4\n",
    "        self.conv6_bn = nn.BatchNorm2d(64)\n",
    "        self.conv7 = nn.Conv2d(64, 64, kernel_size=4, stride=2, padding=0) # out: 96 x 1 x 1\n",
    "        self.do1 = nn.Dropout2d(p=0.5)\n",
    "        self.fc1 = nn.Linear(64, 10) # 10 outputs: probability for each CIFAR10 class\n",
    "\n",
    "    def forward(self, x):\n",
    "        # convolutional part\n",
    "        x = F.relu(self.conv1_bn(self.conv1(x)))\n",
    "        x = F.relu(self.conv2_bn(self.conv2(x)))\n",
    "        x = F.relu(self.conv3_bn(self.conv3(x)))\n",
    "        x = F.relu(self.conv4_bn(self.conv4(x)))\n",
    "        x = F.relu(self.conv5_bn(self.conv5(x)))\n",
    "        x = F.relu(self.conv6_bn(self.conv6(x)))\n",
    "        x = F.relu(self.conv7(x))\n",
    "        x = self.do1(x)\n",
    "        x = x.view(x.size(0), -1) # flatten batch of multi-channel feature maps to a batch of feature vectors\n",
    "        \n",
    "        # fully connected part\n",
    "        x = F.log_softmax(self.fc1(x), dim=1) # last activation is log softmax to get log class probabilities\n",
    "        \n",
    "        return x\n",
    "\n",
    "convnet = ConvNet()\n",
    "\n",
    "device = torch.device(\"cuda:0\" if use_gpu and torch.cuda.is_available() else \"cpu\")\n",
    "convnet = convnet.to(device)\n",
    "    \n",
    "# pick a subset of filters\n",
    "filter_inds = []\n",
    "for conv in [convnet.conv1, convnet.conv2, convnet.conv3, convnet.conv4]:\n",
    "    weights = conv.weight.data.view(-1, 1, conv.weight.size(2), conv.weight.size(3))\n",
    "    filter_inds.append(np.random.choice(weights.size(0), min(nfilters, weights.size(0)), replace=False))\n",
    "\n",
    "num_params = sum(p.numel() for p in convnet.parameters() if p.requires_grad)\n",
    "print('Number of parameters: %d' % num_params)"
   ]
  },
  {
   "cell_type": "markdown",
   "metadata": {},
   "source": [
    "Train ConvNet\n",
    "--------\n"
   ]
  },
  {
   "cell_type": "code",
   "execution_count": 5,
   "metadata": {
    "scrolled": true
   },
   "outputs": [
    {
     "name": "stdout",
     "output_type": "stream",
     "text": [
      "Training ...\n",
      "Epoch [1 / 150] average loss: 1.800384\n",
      "Epoch [2 / 150] average loss: 1.506838\n",
      "Epoch [3 / 150] average loss: 1.355435\n",
      "Epoch [4 / 150] average loss: 1.253215\n",
      "Epoch [5 / 150] average loss: 1.172255\n",
      "Epoch [6 / 150] average loss: 1.112579\n",
      "Epoch [7 / 150] average loss: 1.058659\n",
      "Epoch [8 / 150] average loss: 1.012831\n",
      "Epoch [9 / 150] average loss: 0.972379\n",
      "Epoch [10 / 150] average loss: 0.935343\n",
      "Epoch [11 / 150] average loss: 0.902290\n",
      "Epoch [12 / 150] average loss: 0.872317\n",
      "Epoch [13 / 150] average loss: 0.841865\n",
      "Epoch [14 / 150] average loss: 0.825446\n",
      "Epoch [15 / 150] average loss: 0.798933\n",
      "Epoch [16 / 150] average loss: 0.780626\n",
      "Epoch [17 / 150] average loss: 0.758626\n",
      "Epoch [18 / 150] average loss: 0.745468\n",
      "Epoch [19 / 150] average loss: 0.729974\n",
      "Epoch [20 / 150] average loss: 0.711058\n",
      "Epoch [21 / 150] average loss: 0.699637\n",
      "Epoch [22 / 150] average loss: 0.684781\n",
      "Epoch [23 / 150] average loss: 0.676827\n",
      "Epoch [24 / 150] average loss: 0.661745\n",
      "Epoch [25 / 150] average loss: 0.657367\n",
      "Epoch [26 / 150] average loss: 0.649593\n",
      "Epoch [27 / 150] average loss: 0.636176\n",
      "Epoch [28 / 150] average loss: 0.627248\n",
      "Epoch [29 / 150] average loss: 0.617938\n",
      "Epoch [30 / 150] average loss: 0.615330\n",
      "Epoch [31 / 150] average loss: 0.601528\n",
      "Epoch [32 / 150] average loss: 0.589395\n",
      "Epoch [33 / 150] average loss: 0.588763\n",
      "Epoch [34 / 150] average loss: 0.579213\n",
      "Epoch [35 / 150] average loss: 0.570223\n",
      "Epoch [36 / 150] average loss: 0.567608\n",
      "Epoch [37 / 150] average loss: 0.553015\n",
      "Epoch [38 / 150] average loss: 0.551360\n",
      "Epoch [39 / 150] average loss: 0.544469\n",
      "Epoch [40 / 150] average loss: 0.538379\n",
      "Epoch [41 / 150] average loss: 0.530557\n",
      "Epoch [42 / 150] average loss: 0.530796\n",
      "Epoch [43 / 150] average loss: 0.517685\n",
      "Epoch [44 / 150] average loss: 0.515464\n",
      "Epoch [45 / 150] average loss: 0.514242\n",
      "Epoch [46 / 150] average loss: 0.509034\n",
      "Epoch [47 / 150] average loss: 0.502509\n",
      "Epoch [48 / 150] average loss: 0.496977\n",
      "Epoch [49 / 150] average loss: 0.488219\n",
      "Epoch [50 / 150] average loss: 0.497592\n",
      "Epoch [51 / 150] average loss: 0.485768\n",
      "Epoch [52 / 150] average loss: 0.483673\n",
      "Epoch [53 / 150] average loss: 0.480113\n",
      "Epoch [54 / 150] average loss: 0.473848\n",
      "Epoch [55 / 150] average loss: 0.471389\n",
      "Epoch [56 / 150] average loss: 0.470178\n",
      "Epoch [57 / 150] average loss: 0.466626\n",
      "Epoch [58 / 150] average loss: 0.467533\n",
      "Epoch [59 / 150] average loss: 0.456649\n",
      "Epoch [60 / 150] average loss: 0.455246\n",
      "Epoch [61 / 150] average loss: 0.450602\n",
      "Epoch [62 / 150] average loss: 0.447368\n",
      "Epoch [63 / 150] average loss: 0.443970\n",
      "Epoch [64 / 150] average loss: 0.445088\n",
      "Epoch [65 / 150] average loss: 0.439120\n",
      "Epoch [66 / 150] average loss: 0.432394\n",
      "Epoch [67 / 150] average loss: 0.433210\n",
      "Epoch [68 / 150] average loss: 0.429165\n",
      "Epoch [69 / 150] average loss: 0.426095\n",
      "Epoch [70 / 150] average loss: 0.424260\n",
      "Epoch [71 / 150] average loss: 0.418922\n",
      "Epoch [72 / 150] average loss: 0.413899\n",
      "Epoch [73 / 150] average loss: 0.416719\n",
      "Epoch [74 / 150] average loss: 0.413292\n",
      "Epoch [75 / 150] average loss: 0.409664\n",
      "Epoch [76 / 150] average loss: 0.410875\n",
      "Epoch [77 / 150] average loss: 0.408690\n",
      "Epoch [78 / 150] average loss: 0.402239\n",
      "Epoch [79 / 150] average loss: 0.402697\n",
      "Epoch [80 / 150] average loss: 0.400259\n",
      "Epoch [81 / 150] average loss: 0.396963\n",
      "Epoch [82 / 150] average loss: 0.394202\n",
      "Epoch [83 / 150] average loss: 0.395644\n",
      "Epoch [84 / 150] average loss: 0.393933\n",
      "Epoch [85 / 150] average loss: 0.389374\n",
      "Epoch [86 / 150] average loss: 0.383015\n",
      "Epoch [87 / 150] average loss: 0.383983\n",
      "Epoch [88 / 150] average loss: 0.379606\n",
      "Epoch [89 / 150] average loss: 0.382140\n",
      "Epoch [90 / 150] average loss: 0.378405\n",
      "Epoch [91 / 150] average loss: 0.373138\n",
      "Epoch [92 / 150] average loss: 0.364451\n",
      "Epoch [93 / 150] average loss: 0.378790\n",
      "Epoch [94 / 150] average loss: 0.370779\n",
      "Epoch [95 / 150] average loss: 0.366476\n",
      "Epoch [96 / 150] average loss: 0.365097\n",
      "Epoch [97 / 150] average loss: 0.358615\n",
      "Epoch [98 / 150] average loss: 0.358399\n",
      "Epoch [99 / 150] average loss: 0.362799\n",
      "Epoch [100 / 150] average loss: 0.365193\n",
      "Epoch [101 / 150] average loss: 0.356643\n",
      "Epoch [102 / 150] average loss: 0.355321\n",
      "Epoch [103 / 150] average loss: 0.354253\n",
      "Epoch [104 / 150] average loss: 0.352256\n",
      "Epoch [105 / 150] average loss: 0.353466\n",
      "Epoch [106 / 150] average loss: 0.349055\n",
      "Epoch [107 / 150] average loss: 0.350001\n",
      "Epoch [108 / 150] average loss: 0.347163\n",
      "Epoch [109 / 150] average loss: 0.348171\n",
      "Epoch [110 / 150] average loss: 0.339027\n",
      "Epoch [111 / 150] average loss: 0.344751\n",
      "Epoch [112 / 150] average loss: 0.336114\n",
      "Epoch [113 / 150] average loss: 0.342565\n",
      "Epoch [114 / 150] average loss: 0.341502\n",
      "Epoch [115 / 150] average loss: 0.333718\n",
      "Epoch [116 / 150] average loss: 0.336252\n",
      "Epoch [117 / 150] average loss: 0.331880\n",
      "Epoch [118 / 150] average loss: 0.336344\n",
      "Epoch [119 / 150] average loss: 0.331049\n",
      "Epoch [120 / 150] average loss: 0.328401\n",
      "Epoch [121 / 150] average loss: 0.324935\n",
      "Epoch [122 / 150] average loss: 0.329239\n",
      "Epoch [123 / 150] average loss: 0.326370\n",
      "Epoch [124 / 150] average loss: 0.324937\n",
      "Epoch [125 / 150] average loss: 0.323781\n",
      "Epoch [126 / 150] average loss: 0.328894\n",
      "Epoch [127 / 150] average loss: 0.324006\n",
      "Epoch [128 / 150] average loss: 0.320220\n",
      "Epoch [129 / 150] average loss: 0.319003\n",
      "Epoch [130 / 150] average loss: 0.316344\n",
      "Epoch [131 / 150] average loss: 0.319678\n",
      "Epoch [132 / 150] average loss: 0.316764\n",
      "Epoch [133 / 150] average loss: 0.318914\n",
      "Epoch [134 / 150] average loss: 0.316838\n",
      "Epoch [135 / 150] average loss: 0.315587\n",
      "Epoch [136 / 150] average loss: 0.313424\n",
      "Epoch [137 / 150] average loss: 0.314342\n",
      "Epoch [138 / 150] average loss: 0.312701\n",
      "Epoch [139 / 150] average loss: 0.305915\n",
      "Epoch [140 / 150] average loss: 0.307934\n",
      "Epoch [141 / 150] average loss: 0.304676\n",
      "Epoch [142 / 150] average loss: 0.302637\n",
      "Epoch [143 / 150] average loss: 0.298790\n",
      "Epoch [144 / 150] average loss: 0.304981\n",
      "Epoch [145 / 150] average loss: 0.303558\n",
      "Epoch [146 / 150] average loss: 0.304831\n",
      "Epoch [147 / 150] average loss: 0.296911\n",
      "Epoch [148 / 150] average loss: 0.304102\n",
      "Epoch [149 / 150] average loss: 0.298742\n",
      "Epoch [150 / 150] average loss: 0.298426\n"
     ]
    }
   ],
   "source": [
    "optimizer = torch.optim.Adam(params=convnet.parameters(), lr=learning_rate)\n",
    "\n",
    "# set to training mode\n",
    "convnet.train()\n",
    "\n",
    "train_loss_avg = []\n",
    "\n",
    "filters = []\n",
    "\n",
    "print('Training ...')\n",
    "for epoch in range(num_epochs):\n",
    "    train_loss_avg.append(0)\n",
    "    num_batches = 0\n",
    "    filters.append([])\n",
    "    \n",
    "    for image_batch, label_batch in train_dataloader:\n",
    "        \n",
    "        image_batch = image_batch.to(device)\n",
    "        label_batch = label_batch.to(device)\n",
    "        \n",
    "        # class predictions\n",
    "        prediction_batch = convnet(image_batch)\n",
    "        \n",
    "        # The cross-entropy loss.\n",
    "        # The first input are the predicted log class probabilities.\n",
    "        # The ground truth probabilites for each image are expected to be\n",
    "        # 1 for a single class and 0 for all other classes.\n",
    "        # This function expects as second input the index of the class with probability 1.\n",
    "        # (this function is not called cross-entropy, since this function assumes\n",
    "        # that the inputs are log probabilities, not probabilities).\n",
    "        loss = F.nll_loss(prediction_batch, label_batch)\n",
    "        \n",
    "        # backpropagation\n",
    "        optimizer.zero_grad()\n",
    "        loss.backward()\n",
    "        \n",
    "        # one step of the optmizer (using the gradients from backpropagation)\n",
    "        optimizer.step()\n",
    "        \n",
    "        train_loss_avg[-1] += loss.item()\n",
    "        num_batches += 1\n",
    "        \n",
    "    # store filters learned in this epoch\n",
    "    for i, conv in enumerate([convnet.conv1, convnet.conv2, convnet.conv3, convnet.conv4]):\n",
    "        weights = conv.weight.data.view(-1, 1, conv.weight.size(2), conv.weight.size(3))\n",
    "        filters[-1].append(weights[filter_inds[i], :, :, :].cpu())\n",
    "        \n",
    "    train_loss_avg[-1] /= num_batches\n",
    "    print('Epoch [%d / %d] average loss: %f' % (epoch+1, num_epochs, train_loss_avg[-1]))"
   ]
  },
  {
   "cell_type": "markdown",
   "metadata": {},
   "source": [
    "Plot Training Curve\n",
    "--------------------"
   ]
  },
  {
   "cell_type": "code",
   "execution_count": 6,
   "metadata": {},
   "outputs": [
    {
     "data": {
      "image/png": "[encoded data removed]",
      "text/plain": [
       "<Figure size 432x288 with 1 Axes>"
      ]
     },
     "metadata": {
      "needs_background": "light"
     },
     "output_type": "display_data"
    }
   ],
   "source": [
    "import matplotlib.pyplot as plt\n",
    "plt.ion()\n",
    "\n",
    "fig = plt.figure()\n",
    "plt.plot(train_loss_avg)\n",
    "plt.xlabel('Epochs')\n",
    "plt.ylabel('Cross-entropy loss')\n",
    "plt.show()"
   ]
  },
  {
   "cell_type": "markdown",
   "metadata": {},
   "source": [
    "Alternatively: Load Pre-Trained Model\n",
    "-----------------------------"
   ]
  },
  {
   "cell_type": "code",
   "execution_count": 7,
   "metadata": {},
   "outputs": [],
   "source": [
    "filename = 'filter_vis_convnet.pth'\n",
    "import urllib\n",
    "if not os.path.isdir('./pretrained'):\n",
    "    os.makedirs('./pretrained')\n",
    "print('downloading ...')\n",
    "urllib.request.urlretrieve (\"http://geometry.cs.ucl.ac.uk/creativeai/pretrained/\"+filename, \"./pretrained/\"+filename)\n",
    "convnet.load_state_dict(torch.load('./pretrained/'+filename))\n",
    "print('done')\n",
    "\n",
    "# this is how the model parameters can be saved:\n",
    "# torch.save(convnet.state_dict(), './pretrained/my_filter_vis_convnet.pth')"
   ]
  },
  {
   "cell_type": "markdown",
   "metadata": {},
   "source": [
    "Evaluate on the Test Set\n",
    "-------------------------\n",
    "\n",
    "The best current methods achieve a classification error percentage of around 3.47%. See [here](http://rodrigob.github.io/are_we_there_yet/build/classification_datasets_results.html#43494641522d3130) for a leaderboard."
   ]
  },
  {
   "cell_type": "code",
   "execution_count": 8,
   "metadata": {},
   "outputs": [
    {
     "name": "stdout",
     "output_type": "stream",
     "text": [
      "average loss: 0.608837\n",
      "classification error: 16.390000%\n"
     ]
    }
   ],
   "source": [
    "# set to evaluation mode\n",
    "convnet.eval()\n",
    "\n",
    "num_incorrect = 0\n",
    "test_loss_avg = 0\n",
    "num_batches = 0\n",
    "num_instances = 0\n",
    "for image_batch, label_batch in test_dataloader:\n",
    "    \n",
    "    with torch.no_grad():\n",
    "\n",
    "        image_batch = image_batch.to(device)\n",
    "        label_batch = label_batch.to(device)\n",
    "\n",
    "        # class predictions\n",
    "        prediction_batch = convnet(image_batch)\n",
    "\n",
    "        # get number of correct and incorrect class predictions\n",
    "        _, predicted_label = prediction_batch.max(dim=1)\n",
    "        num_incorrect += (predicted_label != label_batch).sum().item()\n",
    "\n",
    "        # cross-entropy loss\n",
    "        loss = F.nll_loss(prediction_batch, label_batch)\n",
    "\n",
    "        test_loss_avg += loss.item()\n",
    "        num_batches += 1\n",
    "        num_instances += image_batch.size(0)\n",
    "    \n",
    "test_loss_avg /= num_batches\n",
    "print('average loss: %f' % (test_loss_avg))\n",
    "print('classification error: %f%%' % ((num_incorrect / num_instances)*100))"
   ]
  },
  {
   "cell_type": "markdown",
   "metadata": {},
   "source": [
    "Filter Visualizations\n",
    "-------------------------\n",
    "Filters that compute useful features are usually smooth. Visualizing these filters can give an indication if the network learned something useful or rather just overfitted to the data. In our model there is some overfitting (some filters are still noisy), but most filters look relatively smooth, indicating a successful training."
   ]
  },
  {
   "cell_type": "code",
   "execution_count": 9,
   "metadata": {},
   "outputs": [
    {
     "data": {
      "image/png": "[encoded data removed]",
      "text/plain": [
       "<Figure size 504x504 with 1 Axes>"
      ]
     },
     "metadata": {
      "needs_background": "light"
     },
     "output_type": "display_data"
    },
    {
     "data": {
      "image/png": "[encoded data removed]",
      "text/plain": [
       "<Figure size 504x504 with 1 Axes>"
      ]
     },
     "metadata": {
      "needs_background": "light"
     },
     "output_type": "display_data"
    },
    {
     "data": {
      "image/png": "[encoded data removed]",
      "text/plain": [
       "<Figure size 504x504 with 1 Axes>"
      ]
     },
     "metadata": {
      "needs_background": "light"
     },
     "output_type": "display_data"
    },
    {
     "data": {
      "image/png": "[encoded data removed]",
      "text/plain": [
       "<Figure size 504x504 with 1 Axes>"
      ]
     },
     "metadata": {
      "needs_background": "light"
     },
     "output_type": "display_data"
    }
   ],
   "source": [
    "import numpy as np\n",
    "import matplotlib.pyplot as plt\n",
    "plt.ion()\n",
    "import torchvision.utils\n",
    "\n",
    "with torch.no_grad():\n",
    "\n",
    "    def filter_collage(filter_weights, nrow):\n",
    "        filter_max = filter_weights.view(filter_weights.size(0), 1, -1).max(dim=2)[0].view(filter_weights.size(0), 1, 1, 1)\n",
    "        filter_min = filter_weights.view(filter_weights.size(0), 1, -1).min(dim=2)[0].view(filter_weights.size(0), 1, 1, 1)\n",
    "        filter_weights = (filter_weights - filter_min) / (filter_max - filter_min)\n",
    "        return torchvision.utils.make_grid(filter_weights, nrow=nrow)\n",
    "\n",
    "    def show_tensor(tensor):\n",
    "        fig, ax = plt.subplots(figsize=(7, 7), nrows=1, ncols=1)\n",
    "        ax.imshow(np.transpose(tensor.numpy(), (1, 2, 0)))\n",
    "        plt.show()\n",
    "\n",
    "    show_tensor(filter_collage(filters[-1][0], nrow=10))\n",
    "    show_tensor(filter_collage(filters[-1][1], nrow=10))\n",
    "    show_tensor(filter_collage(filters[-1][2], nrow=10))\n",
    "    show_tensor(filter_collage(filters[-1][3], nrow=10))"
   ]
  }
 ],
 "metadata": {
  "kernelspec": {
   "display_name": "Python 3",
   "language": "python",
   "name": "python3"
  },
  "language_info": {
   "codemirror_mode": {
    "name": "ipython",
    "version": 3
   },
   "file_extension": ".py",
   "mimetype": "text/x-python",
   "name": "python",
   "nbconvert_exporter": "python",
   "pygments_lexer": "ipython3",
   "version": "3.7.3"
  }
 },
 "nbformat": 4,
 "nbformat_minor": 2
}
